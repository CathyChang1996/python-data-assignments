{
 "cells": [
  {
   "cell_type": "markdown",
   "metadata": {},
   "source": [
    "#Introduction\n",
    "\n",
    "Here is an analysis of Billboard Hot 100 Hits from 1958-present. \n",
    "\n",
    "The dataset which I based on contains all of the top 1 singles on Billboard Hot 100 chart and their basic information from 1958 to the present.\n",
    "\n",
    "\n",
    "**How This Chart Works:**\n",
    "\n",
    "Radio Airplay + Sales Data + Streaming Data = HOT 100\n",
    "\n",
    "Every week's most popular songs across all genres, ranked by radio airplay audience impressions, as measured by Nielsen Music, sales data as compiled by Nielsen Music, and streaming activity data provided by online music sources. (cited from Billboard.com)"
   ]
  },
  {
   "cell_type": "code",
   "execution_count": 1,
   "metadata": {},
   "outputs": [],
   "source": [
    "import pandas as pd\n",
    "from pyecharts import Bar\n",
    "import csv\n",
    "from pyecharts import Line"
   ]
  },
  {
   "cell_type": "code",
   "execution_count": 2,
   "metadata": {},
   "outputs": [],
   "source": [
    "df = pd.read_csv('Billboard Top1 1958-2018.csv')   # the dataset is a mixed data of my previous scaping from Billboard website and others work I download from GitHub. I processed the data and cleaned it. "
   ]
  },
  {
   "cell_type": "code",
   "execution_count": 3,
   "metadata": {},
   "outputs": [
    {
     "data": {
      "text/html": [
       "<div>\n",
       "<style scoped>\n",
       "    .dataframe tbody tr th:only-of-type {\n",
       "        vertical-align: middle;\n",
       "    }\n",
       "\n",
       "    .dataframe tbody tr th {\n",
       "        vertical-align: top;\n",
       "    }\n",
       "\n",
       "    .dataframe thead th {\n",
       "        text-align: right;\n",
       "    }\n",
       "</style>\n",
       "<table border=\"1\" class=\"dataframe\">\n",
       "  <thead>\n",
       "    <tr style=\"text-align: right;\">\n",
       "      <th></th>\n",
       "      <th>date</th>\n",
       "      <th>song</th>\n",
       "      <th>artist</th>\n",
       "    </tr>\n",
       "  </thead>\n",
       "  <tbody>\n",
       "    <tr>\n",
       "      <th>0</th>\n",
       "      <td>1958-08-09</td>\n",
       "      <td>Poor Little Fool</td>\n",
       "      <td>Ricky Nelson</td>\n",
       "    </tr>\n",
       "    <tr>\n",
       "      <th>1</th>\n",
       "      <td>1958-08-16</td>\n",
       "      <td>Poor Little Fool</td>\n",
       "      <td>Ricky Nelson</td>\n",
       "    </tr>\n",
       "    <tr>\n",
       "      <th>2</th>\n",
       "      <td>1958-08-23</td>\n",
       "      <td>Nel Blu Dipinto Di Blu (Volaré)</td>\n",
       "      <td>Domenico Modugno</td>\n",
       "    </tr>\n",
       "    <tr>\n",
       "      <th>3</th>\n",
       "      <td>1958-08-30</td>\n",
       "      <td>Little Star</td>\n",
       "      <td>The Elegants</td>\n",
       "    </tr>\n",
       "    <tr>\n",
       "      <th>4</th>\n",
       "      <td>1958-09-06</td>\n",
       "      <td>Nel Blu Dipinto Di Blu (Volaré)</td>\n",
       "      <td>Domenico Modugno</td>\n",
       "    </tr>\n",
       "  </tbody>\n",
       "</table>\n",
       "</div>"
      ],
      "text/plain": [
       "         date                             song            artist\n",
       "0  1958-08-09                 Poor Little Fool      Ricky Nelson\n",
       "1  1958-08-16                 Poor Little Fool      Ricky Nelson\n",
       "2  1958-08-23  Nel Blu Dipinto Di Blu (Volaré)  Domenico Modugno\n",
       "3  1958-08-30                      Little Star      The Elegants\n",
       "4  1958-09-06  Nel Blu Dipinto Di Blu (Volaré)  Domenico Modugno"
      ]
     },
     "execution_count": 3,
     "metadata": {},
     "output_type": "execute_result"
    }
   ],
   "source": [
    "df=df.rename(columns={'Unnamed: 0':'number'})\n",
    "df=df.drop(axis = 1, labels=['number'])\n",
    "df.head()"
   ]
  },
  {
   "cell_type": "markdown",
   "metadata": {},
   "source": [
    "\n",
    "#Who are the pop stars over this 60 years?\n",
    "\n",
    "The following bar chart shows the top ten artists who have dominated the position of champions from 1958 to the present, and the number of top1 Hits they have. We can see from the chart that **Mariah Carey** and **The Beatles** are the top 2 artists (band), and their performances far surpasses those of other singers, while other singers' performances are very close.\n",
    "\n",
    "However, from the perspective of the number of their top singles, the situation is very different. Boyz II Men, who ranks third in the number of weeks, only has four top1 singles. \n",
    "\n",
    "According to the statistics, the top five singers with the largest quantity of top1 singles are **The Beatles, Mariah Carey, Madonna, Whitney Huston, Michael Jackson.** To a great extent, the number of top1 singles reflects the depth, width and length of influence of the singers. They are representatives of the era and pop cultural leaders.     \n",
    "\n",
    "The rapper **Drake** is a special case. He has a 29-week championship on the list, only next to Michael Jackon, but he has only three top1 songs in total, all of which are concentrated in 2018.     \n",
    "\n",
    "In fact, the influence of Drake as a rapper is gradually expanding. On the chart of Billboard Hot Rap Songs, Drake has 12 champion singles, breaking Jay-Z's record in August 2012 to become the singer with the most Hits on the list. This achievement shows his commercial success in the field of rap."
   ]
  },
  {
   "cell_type": "code",
   "execution_count": 25,
   "metadata": {},
   "outputs": [
    {
     "data": {
      "text/html": [
       "\n",
       "        <iframe\n",
       "            width=\"700\"\n",
       "            height=\"400\"\n",
       "            src=\"bar.html\"\n",
       "            frameborder=\"0\"\n",
       "            allowfullscreen\n",
       "        ></iframe>\n",
       "        "
      ],
      "text/plain": [
       "<IPython.lib.display.IFrame at 0x118f87550>"
      ]
     },
     "execution_count": 25,
     "metadata": {},
     "output_type": "execute_result"
    }
   ],
   "source": [
    "artists_counts=df['artist'].value_counts()[:10].sort_values(ascending=False) #sort values, these 10 artists occupy the position 1 for the most weeks\n",
    "artists = pd.DataFrame(artists_counts)\n",
    "\n",
    "M=df[df['artist']=='Mariah Carey']['song'].describe() \n",
    "B=df[df['artist']=='The Beatles']['song'].describe()\n",
    "BOY=df[df['artist']=='Boyz II Men' ]['song'].describe()\n",
    "Madonna=df[df['artist']=='Madonna']['song'].describe()\n",
    "Whitney_Houston=df[df['artist']=='Whitney Houston']['song'].describe()\n",
    "Michael_Jackson=df[df['artist']=='Michael Jackson']['song'].describe()\n",
    "Drake=df[df['artist']=='Drake']['song'].describe()\n",
    "The_Black_Eyed_Peas=df[df['artist']=='The Black Eyed Peas']['song'].describe()\n",
    "Bee_Gees=df[df['artist']=='Bee Gees']['song'].describe()\n",
    "Adele=df[df['artist']=='Adele']['song'].describe()\n",
    "singer=[M, B, BOY, Madonna, Whitney_Houston, Michael_Jackson, Drake, The_Black_Eyed_Peas, Bee_Gees, Adele] \n",
    "singer_list=[]  #From these 10 artists, I try to find the quantity of their top1 unique songs \n",
    "for i in singer:\n",
    "    unique=i['unique']\n",
    "    singer_list.append(unique)\n",
    "attr = artists.index\n",
    "v1 = artists.artist\n",
    "v2 = singer_list\n",
    "bar = Bar(\"Top 10 Aritists and Performance\")\n",
    "bar.add(\"Weeks on Top 1\", attr, v1, mark_line=[\"average\"], is_label_show=True)\n",
    "bar.add(\"Quantity of Top1 Songs\", attr, v2, mark_point=[\"min\", \"max\"], is_label_show=True)\n",
    "bar.render(path='bar.html')\n",
    "from IPython.display import IFrame\n",
    "IFrame('bar.html', width=700, height=400)"
   ]
  },
  {
   "cell_type": "markdown",
   "metadata": {},
   "source": [
    "We can see that Mariah Carey has been active on the list for almost 18 years. The long career span is one of the reasons why she ranks the first in the dimension of weeks.     \n",
    "\n",
    "However, **The Beatles** got this amazing performance in just six years and had the most number of top1 singles. According to the Hot 100 chart, they are on the list for 585 weeks, half of the time is ranked in the top 19, and the average position is 28. Therefore, we can observe that they reach a great commercial success and rapid popularity in short time.   \n",
    "\n",
    "Although the Beatles songs were featured on the list from 1964 to 1996, songs from the 1960s account for 82%. In fact, the Beatles were disbanded in 1970, and the songs from the 80s and 90s were re-released based on the demos left by Lennon. People keep missing them until the 1990s. The data just proves the 'Beatlemania' caused by the Beatles in the 1960s. They are also the typical symbol of the counter-culture movement and the leader of youthful disaffiliation in the 1960s."
   ]
  },
  {
   "cell_type": "code",
   "execution_count": 5,
   "metadata": {},
   "outputs": [
    {
     "name": "stdout",
     "output_type": "stream",
     "text": [
      "2008-04-19 1990-08-04\n",
      "1970-06-20 1964-02-01\n"
     ]
    },
    {
     "data": {
      "text/html": [
       "<div>\n",
       "<style scoped>\n",
       "    .dataframe tbody tr th:only-of-type {\n",
       "        vertical-align: middle;\n",
       "    }\n",
       "\n",
       "    .dataframe tbody tr th {\n",
       "        vertical-align: top;\n",
       "    }\n",
       "\n",
       "    .dataframe thead th {\n",
       "        text-align: right;\n",
       "    }\n",
       "</style>\n",
       "<table border=\"1\" class=\"dataframe\">\n",
       "  <thead>\n",
       "    <tr style=\"text-align: right;\">\n",
       "      <th></th>\n",
       "      <th>position</th>\n",
       "    </tr>\n",
       "  </thead>\n",
       "  <tbody>\n",
       "    <tr>\n",
       "      <th>count</th>\n",
       "      <td>585.000000</td>\n",
       "    </tr>\n",
       "    <tr>\n",
       "      <th>mean</th>\n",
       "      <td>28.401709</td>\n",
       "    </tr>\n",
       "    <tr>\n",
       "      <th>std</th>\n",
       "      <td>26.876576</td>\n",
       "    </tr>\n",
       "    <tr>\n",
       "      <th>min</th>\n",
       "      <td>1.000000</td>\n",
       "    </tr>\n",
       "    <tr>\n",
       "      <th>25%</th>\n",
       "      <td>5.000000</td>\n",
       "    </tr>\n",
       "    <tr>\n",
       "      <th>50%</th>\n",
       "      <td>19.000000</td>\n",
       "    </tr>\n",
       "    <tr>\n",
       "      <th>75%</th>\n",
       "      <td>47.000000</td>\n",
       "    </tr>\n",
       "    <tr>\n",
       "      <th>max</th>\n",
       "      <td>99.000000</td>\n",
       "    </tr>\n",
       "  </tbody>\n",
       "</table>\n",
       "</div>"
      ],
      "text/plain": [
       "         position\n",
       "count  585.000000\n",
       "mean    28.401709\n",
       "std     26.876576\n",
       "min      1.000000\n",
       "25%      5.000000\n",
       "50%     19.000000\n",
       "75%     47.000000\n",
       "max     99.000000"
      ]
     },
     "execution_count": 5,
     "metadata": {},
     "output_type": "execute_result"
    }
   ],
   "source": [
    "Mariah_Carey=df[df['artist']=='Mariah Carey']\n",
    "maxyear=Mariah_Carey['date'].max()\n",
    "minyear=Mariah_Carey['date'].min()\n",
    "The_Beatles=df[df['artist']=='The Beatles']\n",
    "maxbeatles=The_Beatles['date'].max()\n",
    "minbeatles=The_Beatles['date'].min()\n",
    "print(maxyear, minyear)\n",
    "print(maxbeatles, minbeatles)\n",
    "\n",
    "data = pd.read_csv('Hot100.csv')\n",
    "all_beatles=data[data['artist']=='The Beatles']\n",
    "all_beatles.describe() "
   ]
  },
  {
   "cell_type": "markdown",
   "metadata": {},
   "source": [
    "#What about the variety of pop songs over time?\n",
    "\n",
    "**A surprising finding is that after 1991, the pop music is worse than the music of previous decades due to its lack of variety. We can observe that the numbers are under the average after 1991. In sum, the Billboard Hot 100 Chart is becoming less diverse over time in terms of unique artists and songs. In 1974, we have the maximum number of unique top songs, however, in 2005, there are only 8 unique top songs on the chart**"
   ]
  },
  {
   "cell_type": "code",
   "execution_count": 26,
   "metadata": {},
   "outputs": [
    {
     "data": {
      "text/html": [
       "\n",
       "        <iframe\n",
       "            width=\"700\"\n",
       "            height=\"400\"\n",
       "            src=\"line.html\"\n",
       "            frameborder=\"0\"\n",
       "            allowfullscreen\n",
       "        ></iframe>\n",
       "        "
      ],
      "text/plain": [
       "<IPython.lib.display.IFrame at 0x118f016a0>"
      ]
     },
     "execution_count": 26,
     "metadata": {},
     "output_type": "execute_result"
    }
   ],
   "source": [
    "import pandas as pd\n",
    "import csv\n",
    "import datetime\n",
    "from dateutil.parser import parse\n",
    "df = pd.read_csv('Billboard Top1 1958-2018.csv')\n",
    "df['datetime']=df['date'].apply(parse)\n",
    "describe_song=df.set_index('datetime').resample('1y')['song'].describe()\n",
    "hhh=pd.DataFrame(pd.to_numeric(describe_song['unique']))\n",
    "years = list(hhh.reset_index()['datetime'].apply(lambda x: x.year).values)\n",
    "YN=years[1:]\n",
    "values = list(hhh.unique.values)\n",
    "UNI=values[1:]\n",
    "\n",
    "line = Line(\"Unique change trend\")\n",
    "line.add(\"Unique Songs\", [str(y) for y in YN], UNI, mark_line=[\"average\"], mark_point=['max','min'])\n",
    "line.render(path='line.html')\n",
    "from IPython.display import IFrame\n",
    "IFrame('line.html', width=700, height=400)"
   ]
  },
  {
   "cell_type": "markdown",
   "metadata": {},
   "source": [
    "# What are the most popular songs over decades?\n",
    "\n",
    "The data in 1950s is incomplete，so I select the decade representative songs from 1960s to 2018.(based on the counts of the weeks it spent at NO.1) It seems that the songs after 1990 got better performance in the aspect of duration of being NO.1. Let's find out some stories about these songs.\n",
    "\n",
    "**Hey Jude** and **\"You Light Up My Life** express the theme like 'hope' 'get better' 'light the nights'. They mainly talk about self-encouragement in the face of hardship, and express great gratitude to people who 'lit up her life'. \n",
    "\n",
    "**One Sweet Day**and**We Belong Together**are two of the most popular songs of Mariah Carey. The lyrics of them are more about romantic notions and both of the songs are R&B/ Soul. The words like 'belong', 'baby', 'always', 'sweet' in lyrics are salient.\n",
    "\n",
    "**Physical** and **Despacito** are in a total different picture, instead of romantic notions, the songs are in lively rhythms, full of dance and happy atmosphere. The words such as 'physical', 'body', 'want', 'favourite' indicate the theme of enthusiasm and unrestrain."
   ]
  },
  {
   "cell_type": "code",
   "execution_count": 7,
   "metadata": {},
   "outputs": [],
   "source": [
    "af=df.set_index('datetime').resample('10y')['song'].value_counts()\n",
    "af.to_csv('topsongs_by_decade.csv')\n",
    "songs = pd.read_csv('topsongs_by_decade.csv', header=None,names = [\"datetime\", \"titles\", \"counts\"])"
   ]
  },
  {
   "cell_type": "code",
   "execution_count": 15,
   "metadata": {},
   "outputs": [
    {
     "data": {
      "text/html": [
       "<div>\n",
       "<style scoped>\n",
       "    .dataframe tbody tr th:only-of-type {\n",
       "        vertical-align: middle;\n",
       "    }\n",
       "\n",
       "    .dataframe tbody tr th {\n",
       "        vertical-align: top;\n",
       "    }\n",
       "\n",
       "    .dataframe thead th {\n",
       "        text-align: right;\n",
       "    }\n",
       "</style>\n",
       "<table border=\"1\" class=\"dataframe\">\n",
       "  <thead>\n",
       "    <tr style=\"text-align: right;\">\n",
       "      <th></th>\n",
       "      <th>datetime</th>\n",
       "      <th>titles</th>\n",
       "      <th>counts</th>\n",
       "    </tr>\n",
       "  </thead>\n",
       "  <tbody>\n",
       "    <tr>\n",
       "      <th>8</th>\n",
       "      <td>1968-12-31</td>\n",
       "      <td>Hey Jude</td>\n",
       "      <td>9</td>\n",
       "    </tr>\n",
       "    <tr>\n",
       "      <th>211</th>\n",
       "      <td>1978-12-31</td>\n",
       "      <td>You Light Up My Life</td>\n",
       "      <td>10</td>\n",
       "    </tr>\n",
       "    <tr>\n",
       "      <th>457</th>\n",
       "      <td>1988-12-31</td>\n",
       "      <td>Physical</td>\n",
       "      <td>10</td>\n",
       "    </tr>\n",
       "    <tr>\n",
       "      <th>680</th>\n",
       "      <td>1998-12-31</td>\n",
       "      <td>One Sweet Day</td>\n",
       "      <td>16</td>\n",
       "    </tr>\n",
       "    <tr>\n",
       "      <th>842</th>\n",
       "      <td>2008-12-31</td>\n",
       "      <td>We Belong Together</td>\n",
       "      <td>14</td>\n",
       "    </tr>\n",
       "    <tr>\n",
       "      <th>974</th>\n",
       "      <td>2018-12-31</td>\n",
       "      <td>Despacito</td>\n",
       "      <td>16</td>\n",
       "    </tr>\n",
       "  </tbody>\n",
       "</table>\n",
       "</div>"
      ],
      "text/plain": [
       "       datetime                titles  counts\n",
       "8    1968-12-31              Hey Jude       9\n",
       "211  1978-12-31  You Light Up My Life      10\n",
       "457  1988-12-31              Physical      10\n",
       "680  1998-12-31         One Sweet Day      16\n",
       "842  2008-12-31    We Belong Together      14\n",
       "974  2018-12-31             Despacito      16"
      ]
     },
     "execution_count": 15,
     "metadata": {},
     "output_type": "execute_result"
    }
   ],
   "source": [
    "decade_representatives=songs.groupby('datetime').head(1).drop(index=[0])\n",
    "decade_representatives"
   ]
  },
  {
   "cell_type": "code",
   "execution_count": 27,
   "metadata": {},
   "outputs": [
    {
     "data": {
      "text/html": [
       "\n",
       "        <iframe\n",
       "            width=\"700\"\n",
       "            height=\"400\"\n",
       "            src=\"lyrics.png\"\n",
       "            frameborder=\"0\"\n",
       "            allowfullscreen\n",
       "        ></iframe>\n",
       "        "
      ],
      "text/plain": [
       "<IPython.lib.display.IFrame at 0x118f0fd30>"
      ]
     },
     "execution_count": 27,
     "metadata": {},
     "output_type": "execute_result"
    }
   ],
   "source": [
    "IFrame('lyrics.png', width=700, height=400)  \n",
    "# I scrape the lyrics of songs separately, since the code is lengthy, I save it in another notebook called 'Lyrics'\n"
   ]
  },
  {
   "cell_type": "code",
   "execution_count": null,
   "metadata": {},
   "outputs": [],
   "source": []
  },
  {
   "cell_type": "code",
   "execution_count": null,
   "metadata": {},
   "outputs": [],
   "source": []
  },
  {
   "cell_type": "code",
   "execution_count": null,
   "metadata": {},
   "outputs": [],
   "source": []
  }
 ],
 "metadata": {
  "kernelspec": {
   "display_name": "Python 3",
   "language": "python",
   "name": "python3"
  },
  "language_info": {
   "codemirror_mode": {
    "name": "ipython",
    "version": 3
   },
   "file_extension": ".py",
   "mimetype": "text/x-python",
   "name": "python",
   "nbconvert_exporter": "python",
   "pygments_lexer": "ipython3",
   "version": "3.7.0"
  }
 },
 "nbformat": 4,
 "nbformat_minor": 2
}
