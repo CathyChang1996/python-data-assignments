{
 "cells": [
  {
   "cell_type": "code",
   "execution_count": 1,
   "metadata": {},
   "outputs": [],
   "source": [
    "import datetime   # get all the dates when the rank get updated (from 2008 - current)\n",
    "data = []\n",
    "for i in range(0, 568):\n",
    "    t = datetime.date(2018, 11, 10) - datetime.timedelta(days=i*7)\n",
    "    data.append(t)\n",
    "    \n",
    "dates=[]\n",
    "for d in data: # transfer the date format e.g. 2018-11-10\n",
    "    date = d.strftime(\"%Y-%m-%d\")\n",
    "    dates.append(date)\n",
    "    \n",
    "urls=[]  # get all website pages link in a list\n",
    "for i in dates: \n",
    "    page_url = 'https://www.billboard.com/charts/hot-100/{}'.format(i)\n",
    "    urls.append(page_url)"
   ]
  },
  {
   "cell_type": "code",
   "execution_count": 2,
   "metadata": {},
   "outputs": [],
   "source": [
    "from bs4 import BeautifulSoup\n",
    "import requests\n",
    "import csv\n",
    "\n",
    "def get_data(url):\n",
    "    r = requests.get(url)\n",
    "    t = r.text\n",
    "    mypage = BeautifulSoup(t)\n",
    "    try:           # when I was scraping from the website, I found some problems: if the single got the first position in two or more weeks continuously, then there would not be an index called ' last_week_rank', so we need to divide it into two situations.\n",
    "        first = []\n",
    "        data = url[41:] # the urls are strings, we only need the last 10 characters \n",
    "        number_one_title = mypage.find('div', attrs={'class': 'chart-number-one__title'})\n",
    "        numberone=number_one_title.text.strip()\n",
    "        number_one_artist = mypage.find('div', attrs={'class': 'chart-number-one__artist'})\n",
    "        no1artist=number_one_artist.text.strip()\n",
    "        weeks_on_chart = mypage.find('div', attrs={'class': 'chart-number-one__weeks-on-chart'}).text\n",
    "        last_week_rank = mypage.find('div', attrs={'class': 'chart-number-one__last-week'}).text\n",
    "        first.extend([data, numberone, no1artist, weeks_on_chart , last_week_rank])\n",
    "        return first\n",
    "    except:\n",
    "        first_1 = []\n",
    "        data = url[41:]\n",
    "        number_one_title = mypage.find('div', attrs={'class': 'chart-number-one__title'})\n",
    "        numberone=number_one_title.text.strip()\n",
    "        number_one_artist = mypage.find('div', attrs={'class': 'chart-number-one__artist'})\n",
    "        no1artist=number_one_artist.text.strip()\n",
    "        weeks_on_chart = mypage.find('div', attrs={'class': 'chart-number-one__weeks-on-chart'}).text\n",
    "        first_1.extend([data, numberone, no1artist, weeks_on_chart , ''])\n",
    "        return first_1\n"
   ]
  },
  {
   "cell_type": "code",
   "execution_count": 3,
   "metadata": {},
   "outputs": [
    {
     "data": {
      "text/plain": [
       "['2018-09-08', 'In My Feelings', 'Drake', '9', '']"
      ]
     },
     "execution_count": 3,
     "metadata": {},
     "output_type": "execute_result"
    }
   ],
   "source": [
    "get_data(urls[9])"
   ]
  },
  {
   "cell_type": "code",
   "execution_count": 4,
   "metadata": {},
   "outputs": [],
   "source": [
    "dataset=[]\n",
    "for i in urls:  # get all data in 10 years in a list\n",
    "    mydata=get_data(i)\n",
    "    dataset.append(mydata)\n",
    "    \n",
    "import csv   # write into csv.\n",
    "with open('billboard_100_top1.csv','w') as f:\n",
    "    writer = csv.writer(f)\n",
    "    header = ['Date','Title','Artist', 'Weeks_On_Chart', 'Last_Week_Rank']\n",
    "    writer.writerow(header)\n",
    "    writer.writerows(dataset)     "
   ]
  },
  {
   "cell_type": "code",
   "execution_count": 5,
   "metadata": {},
   "outputs": [
    {
     "data": {
      "text/plain": [
       "568"
      ]
     },
     "execution_count": 5,
     "metadata": {},
     "output_type": "execute_result"
    }
   ],
   "source": [
    "len(dataset)"
   ]
  },
  {
   "cell_type": "code",
   "execution_count": null,
   "metadata": {},
   "outputs": [],
   "source": []
  }
 ],
 "metadata": {
  "kernelspec": {
   "display_name": "Python 3",
   "language": "python",
   "name": "python3"
  },
  "language_info": {
   "codemirror_mode": {
    "name": "ipython",
    "version": 3
   },
   "file_extension": ".py",
   "mimetype": "text/x-python",
   "name": "python",
   "nbconvert_exporter": "python",
   "pygments_lexer": "ipython3",
   "version": "3.7.0"
  }
 },
 "nbformat": 4,
 "nbformat_minor": 2
}
